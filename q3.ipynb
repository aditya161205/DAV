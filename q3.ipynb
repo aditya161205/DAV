{
  "nbformat": 4,
  "nbformat_minor": 0,
  "metadata": {
    "colab": {
      "provenance": [],
      "authorship_tag": "ABX9TyPHgZ1XgSB8jcVIi+g3Wz44",
      "include_colab_link": true
    },
    "kernelspec": {
      "name": "python3",
      "display_name": "Python 3"
    },
    "language_info": {
      "name": "python"
    }
  },
  "cells": [
    {
      "cell_type": "markdown",
      "metadata": {
        "id": "view-in-github",
        "colab_type": "text"
      },
      "source": [
        "<a href=\"https://colab.research.google.com/github/aditya161205/DAV/blob/main/q3.ipynb\" target=\"_parent\"><img src=\"https://colab.research.google.com/assets/colab-badge.svg\" alt=\"Open In Colab\"/></a>"
      ]
    },
    {
      "cell_type": "code",
      "execution_count": 1,
      "metadata": {
        "id": "HeTDdpJTu9jp"
      },
      "outputs": [],
      "source": [
        "import numpy as np\n",
        "import pandas as pd\n",
        "import matplotlib.pyplot as plt\n"
      ]
    },
    {
      "cell_type": "code",
      "source": [
        "train_data= pd.read_csv('train.csv')\n",
        "test_data=pd.read_csv('test.csv')\n",
        "\n",
        "train_data.head(1)"
      ],
      "metadata": {
        "colab": {
          "base_uri": "https://localhost:8080/",
          "height": 118
        },
        "id": "V0bs1TiSvJfZ",
        "outputId": "7089e3c2-a7f1-4a7c-cd2e-605839c13dae"
      },
      "execution_count": 31,
      "outputs": [
        {
          "output_type": "execute_result",
          "data": {
            "text/plain": [
              "   Unnamed: 0 Gender  Age Ever_Married  Family_Size  Profession Graduated  \\\n",
              "0           0   Male   22           No          4.0  Healthcare        No   \n",
              "\n",
              "   Work_Experience Energy_Consumption Preferred_Renewable Group  \n",
              "0              1.0                Low               Hydro     D  "
            ],
            "text/html": [
              "\n",
              "  <div id=\"df-1913ec7c-5dba-46bd-866e-24e7521e94ac\" class=\"colab-df-container\">\n",
              "    <div>\n",
              "<style scoped>\n",
              "    .dataframe tbody tr th:only-of-type {\n",
              "        vertical-align: middle;\n",
              "    }\n",
              "\n",
              "    .dataframe tbody tr th {\n",
              "        vertical-align: top;\n",
              "    }\n",
              "\n",
              "    .dataframe thead th {\n",
              "        text-align: right;\n",
              "    }\n",
              "</style>\n",
              "<table border=\"1\" class=\"dataframe\">\n",
              "  <thead>\n",
              "    <tr style=\"text-align: right;\">\n",
              "      <th></th>\n",
              "      <th>Unnamed: 0</th>\n",
              "      <th>Gender</th>\n",
              "      <th>Age</th>\n",
              "      <th>Ever_Married</th>\n",
              "      <th>Family_Size</th>\n",
              "      <th>Profession</th>\n",
              "      <th>Graduated</th>\n",
              "      <th>Work_Experience</th>\n",
              "      <th>Energy_Consumption</th>\n",
              "      <th>Preferred_Renewable</th>\n",
              "      <th>Group</th>\n",
              "    </tr>\n",
              "  </thead>\n",
              "  <tbody>\n",
              "    <tr>\n",
              "      <th>0</th>\n",
              "      <td>0</td>\n",
              "      <td>Male</td>\n",
              "      <td>22</td>\n",
              "      <td>No</td>\n",
              "      <td>4.0</td>\n",
              "      <td>Healthcare</td>\n",
              "      <td>No</td>\n",
              "      <td>1.0</td>\n",
              "      <td>Low</td>\n",
              "      <td>Hydro</td>\n",
              "      <td>D</td>\n",
              "    </tr>\n",
              "  </tbody>\n",
              "</table>\n",
              "</div>\n",
              "    <div class=\"colab-df-buttons\">\n",
              "\n",
              "  <div class=\"colab-df-container\">\n",
              "    <button class=\"colab-df-convert\" onclick=\"convertToInteractive('df-1913ec7c-5dba-46bd-866e-24e7521e94ac')\"\n",
              "            title=\"Convert this dataframe to an interactive table.\"\n",
              "            style=\"display:none;\">\n",
              "\n",
              "  <svg xmlns=\"http://www.w3.org/2000/svg\" height=\"24px\" viewBox=\"0 -960 960 960\">\n",
              "    <path d=\"M120-120v-720h720v720H120Zm60-500h600v-160H180v160Zm220 220h160v-160H400v160Zm0 220h160v-160H400v160ZM180-400h160v-160H180v160Zm440 0h160v-160H620v160ZM180-180h160v-160H180v160Zm440 0h160v-160H620v160Z\"/>\n",
              "  </svg>\n",
              "    </button>\n",
              "\n",
              "  <style>\n",
              "    .colab-df-container {\n",
              "      display:flex;\n",
              "      gap: 12px;\n",
              "    }\n",
              "\n",
              "    .colab-df-convert {\n",
              "      background-color: #E8F0FE;\n",
              "      border: none;\n",
              "      border-radius: 50%;\n",
              "      cursor: pointer;\n",
              "      display: none;\n",
              "      fill: #1967D2;\n",
              "      height: 32px;\n",
              "      padding: 0 0 0 0;\n",
              "      width: 32px;\n",
              "    }\n",
              "\n",
              "    .colab-df-convert:hover {\n",
              "      background-color: #E2EBFA;\n",
              "      box-shadow: 0px 1px 2px rgba(60, 64, 67, 0.3), 0px 1px 3px 1px rgba(60, 64, 67, 0.15);\n",
              "      fill: #174EA6;\n",
              "    }\n",
              "\n",
              "    .colab-df-buttons div {\n",
              "      margin-bottom: 4px;\n",
              "    }\n",
              "\n",
              "    [theme=dark] .colab-df-convert {\n",
              "      background-color: #3B4455;\n",
              "      fill: #D2E3FC;\n",
              "    }\n",
              "\n",
              "    [theme=dark] .colab-df-convert:hover {\n",
              "      background-color: #434B5C;\n",
              "      box-shadow: 0px 1px 3px 1px rgba(0, 0, 0, 0.15);\n",
              "      filter: drop-shadow(0px 1px 2px rgba(0, 0, 0, 0.3));\n",
              "      fill: #FFFFFF;\n",
              "    }\n",
              "  </style>\n",
              "\n",
              "    <script>\n",
              "      const buttonEl =\n",
              "        document.querySelector('#df-1913ec7c-5dba-46bd-866e-24e7521e94ac button.colab-df-convert');\n",
              "      buttonEl.style.display =\n",
              "        google.colab.kernel.accessAllowed ? 'block' : 'none';\n",
              "\n",
              "      async function convertToInteractive(key) {\n",
              "        const element = document.querySelector('#df-1913ec7c-5dba-46bd-866e-24e7521e94ac');\n",
              "        const dataTable =\n",
              "          await google.colab.kernel.invokeFunction('convertToInteractive',\n",
              "                                                    [key], {});\n",
              "        if (!dataTable) return;\n",
              "\n",
              "        const docLinkHtml = 'Like what you see? Visit the ' +\n",
              "          '<a target=\"_blank\" href=https://colab.research.google.com/notebooks/data_table.ipynb>data table notebook</a>'\n",
              "          + ' to learn more about interactive tables.';\n",
              "        element.innerHTML = '';\n",
              "        dataTable['output_type'] = 'display_data';\n",
              "        await google.colab.output.renderOutput(dataTable, element);\n",
              "        const docLink = document.createElement('div');\n",
              "        docLink.innerHTML = docLinkHtml;\n",
              "        element.appendChild(docLink);\n",
              "      }\n",
              "    </script>\n",
              "  </div>\n",
              "\n",
              "\n",
              "    </div>\n",
              "  </div>\n"
            ],
            "application/vnd.google.colaboratory.intrinsic+json": {
              "type": "dataframe",
              "variable_name": "train_data",
              "summary": "{\n  \"name\": \"train_data\",\n  \"rows\": 8068,\n  \"fields\": [\n    {\n      \"column\": \"Unnamed: 0\",\n      \"properties\": {\n        \"dtype\": \"number\",\n        \"std\": 2329,\n        \"min\": 0,\n        \"max\": 8067,\n        \"num_unique_values\": 8068,\n        \"samples\": [\n          742,\n          2127,\n          2107\n        ],\n        \"semantic_type\": \"\",\n        \"description\": \"\"\n      }\n    },\n    {\n      \"column\": \"Gender\",\n      \"properties\": {\n        \"dtype\": \"category\",\n        \"num_unique_values\": 2,\n        \"samples\": [\n          \"Female\",\n          \"Male\"\n        ],\n        \"semantic_type\": \"\",\n        \"description\": \"\"\n      }\n    },\n    {\n      \"column\": \"Age\",\n      \"properties\": {\n        \"dtype\": \"number\",\n        \"std\": 16,\n        \"min\": 18,\n        \"max\": 89,\n        \"num_unique_values\": 67,\n        \"samples\": [\n          30,\n          49\n        ],\n        \"semantic_type\": \"\",\n        \"description\": \"\"\n      }\n    },\n    {\n      \"column\": \"Ever_Married\",\n      \"properties\": {\n        \"dtype\": \"category\",\n        \"num_unique_values\": 2,\n        \"samples\": [\n          \"Yes\",\n          \"No\"\n        ],\n        \"semantic_type\": \"\",\n        \"description\": \"\"\n      }\n    },\n    {\n      \"column\": \"Family_Size\",\n      \"properties\": {\n        \"dtype\": \"number\",\n        \"std\": 1.5314132820253783,\n        \"min\": 1.0,\n        \"max\": 9.0,\n        \"num_unique_values\": 9,\n        \"samples\": [\n          7.0,\n          3.0\n        ],\n        \"semantic_type\": \"\",\n        \"description\": \"\"\n      }\n    },\n    {\n      \"column\": \"Profession\",\n      \"properties\": {\n        \"dtype\": \"category\",\n        \"num_unique_values\": 9,\n        \"samples\": [\n          \"Homemaker\",\n          \"Engineer\"\n        ],\n        \"semantic_type\": \"\",\n        \"description\": \"\"\n      }\n    },\n    {\n      \"column\": \"Graduated\",\n      \"properties\": {\n        \"dtype\": \"category\",\n        \"num_unique_values\": 2,\n        \"samples\": [\n          \"Yes\",\n          \"No\"\n        ],\n        \"semantic_type\": \"\",\n        \"description\": \"\"\n      }\n    },\n    {\n      \"column\": \"Work_Experience\",\n      \"properties\": {\n        \"dtype\": \"number\",\n        \"std\": 3.4067629854579518,\n        \"min\": 0.0,\n        \"max\": 14.0,\n        \"num_unique_values\": 15,\n        \"samples\": [\n          14.0,\n          2.0\n        ],\n        \"semantic_type\": \"\",\n        \"description\": \"\"\n      }\n    },\n    {\n      \"column\": \"Energy_Consumption\",\n      \"properties\": {\n        \"dtype\": \"category\",\n        \"num_unique_values\": 3,\n        \"samples\": [\n          \"Low\",\n          \"Average\"\n        ],\n        \"semantic_type\": \"\",\n        \"description\": \"\"\n      }\n    },\n    {\n      \"column\": \"Preferred_Renewable\",\n      \"properties\": {\n        \"dtype\": \"category\",\n        \"num_unique_values\": 7,\n        \"samples\": [\n          \"Hydro\",\n          \"Solar\"\n        ],\n        \"semantic_type\": \"\",\n        \"description\": \"\"\n      }\n    },\n    {\n      \"column\": \"Group\",\n      \"properties\": {\n        \"dtype\": \"category\",\n        \"num_unique_values\": 4,\n        \"samples\": [\n          \"A\",\n          \"C\"\n        ],\n        \"semantic_type\": \"\",\n        \"description\": \"\"\n      }\n    }\n  ]\n}"
            }
          },
          "metadata": {},
          "execution_count": 31
        }
      ]
    },
    {
      "cell_type": "code",
      "source": [
        "train_data = train_data.drop('Unnamed: 0', axis=1)\n",
        "test_data = test_data.drop('Unnamed: 0', axis=1)\n",
        "train_data.head()\n",
        "train_data.info()"
      ],
      "metadata": {
        "colab": {
          "base_uri": "https://localhost:8080/"
        },
        "id": "Ak4pFNZRvgjj",
        "outputId": "05f3d836-1118-4735-ad47-018be6b856aa"
      },
      "execution_count": 21,
      "outputs": [
        {
          "output_type": "stream",
          "name": "stdout",
          "text": [
            "<class 'pandas.core.frame.DataFrame'>\n",
            "RangeIndex: 8068 entries, 0 to 8067\n",
            "Data columns (total 10 columns):\n",
            " #   Column               Non-Null Count  Dtype  \n",
            "---  ------               --------------  -----  \n",
            " 0   Gender               8068 non-null   object \n",
            " 1   Age                  8068 non-null   int64  \n",
            " 2   Ever_Married         7928 non-null   object \n",
            " 3   Family_Size          7733 non-null   float64\n",
            " 4   Profession           7944 non-null   object \n",
            " 5   Graduated            7990 non-null   object \n",
            " 6   Work_Experience      7239 non-null   float64\n",
            " 7   Energy_Consumption   8068 non-null   object \n",
            " 8   Preferred_Renewable  7992 non-null   object \n",
            " 9   Group                8068 non-null   object \n",
            "dtypes: float64(2), int64(1), object(7)\n",
            "memory usage: 630.4+ KB\n"
          ]
        }
      ]
    },
    {
      "cell_type": "code",
      "source": [
        "\n",
        "numeric = train_data.select_dtypes(include=['float64']).columns\n",
        "for col in numeric:\n",
        "    train_data[col] = train_data[col].fillna(train_data[col].median())\n",
        "\n",
        "\n",
        "cat = train_data.select_dtypes(include=['object']).columns\n",
        "for col in cat:\n",
        "    train_data[col] = train_data[col].fillna(train_data[col].mode()[0])\n",
        "\n",
        "\n",
        "for col in train_data.columns:\n",
        "    if train_data[col].dtype == 'float64':\n",
        "        lower = train_data[col].quantile(0.25)\n",
        "        upper = train_data[col].quantile(0.75)\n",
        "        train_data[col] = train_data[col].clip(lower, upper)\n",
        "\n",
        "\n",
        "train_data.info()"
      ],
      "metadata": {
        "colab": {
          "base_uri": "https://localhost:8080/"
        },
        "id": "gvCc-ISbvi3V",
        "outputId": "7ac54fd2-d248-4b53-c0f3-dee1090e8af9"
      },
      "execution_count": 22,
      "outputs": [
        {
          "output_type": "stream",
          "name": "stdout",
          "text": [
            "<class 'pandas.core.frame.DataFrame'>\n",
            "RangeIndex: 8068 entries, 0 to 8067\n",
            "Data columns (total 10 columns):\n",
            " #   Column               Non-Null Count  Dtype  \n",
            "---  ------               --------------  -----  \n",
            " 0   Gender               8068 non-null   object \n",
            " 1   Age                  8068 non-null   int64  \n",
            " 2   Ever_Married         8068 non-null   object \n",
            " 3   Family_Size          8068 non-null   float64\n",
            " 4   Profession           8068 non-null   object \n",
            " 5   Graduated            8068 non-null   object \n",
            " 6   Work_Experience      8068 non-null   float64\n",
            " 7   Energy_Consumption   8068 non-null   object \n",
            " 8   Preferred_Renewable  8068 non-null   object \n",
            " 9   Group                8068 non-null   object \n",
            "dtypes: float64(2), int64(1), object(7)\n",
            "memory usage: 630.4+ KB\n"
          ]
        }
      ]
    },
    {
      "cell_type": "code",
      "source": [
        "numeric = test_data.select_dtypes(include=['float64']).columns\n",
        "for col in numeric:\n",
        "    test_data[col] = test_data[col].fillna(test_data[col].median())\n",
        "\n",
        "cat = test_data.select_dtypes(include=['object']).columns\n",
        "for col in cat:\n",
        "    test_data[col] = test_data[col].fillna(test_data[col].mode()[0])\n",
        "\n",
        "for col in test_data.columns:\n",
        "    if test_data[col].dtype == 'float64':\n",
        "        lower = test_data[col].quantile(0.25)\n",
        "        upper = test_data[col].quantile(0.75)\n",
        "        test_data[col] = test_data[col].clip(lower, upper)\n",
        "\n",
        "test_data.info()\n"
      ],
      "metadata": {
        "colab": {
          "base_uri": "https://localhost:8080/"
        },
        "id": "exdBLiCbwBca",
        "outputId": "c1726e91-5c7c-442e-b506-151a815689c2"
      },
      "execution_count": 29,
      "outputs": [
        {
          "output_type": "stream",
          "name": "stdout",
          "text": [
            "<class 'pandas.core.frame.DataFrame'>\n",
            "RangeIndex: 2627 entries, 0 to 2626\n",
            "Data columns (total 9 columns):\n",
            " #   Column               Non-Null Count  Dtype  \n",
            "---  ------               --------------  -----  \n",
            " 0   Gender               2627 non-null   object \n",
            " 1   Age                  2627 non-null   int64  \n",
            " 2   Ever_Married         2627 non-null   object \n",
            " 3   Family_Size          2627 non-null   float64\n",
            " 4   Profession           2627 non-null   object \n",
            " 5   Graduated            2627 non-null   object \n",
            " 6   Work_Experience      2627 non-null   float64\n",
            " 7   Energy_Consumption   2627 non-null   object \n",
            " 8   Preferred_Renewable  2627 non-null   object \n",
            "dtypes: float64(2), int64(1), object(6)\n",
            "memory usage: 184.8+ KB\n"
          ]
        }
      ]
    },
    {
      "cell_type": "code",
      "source": [
        "\n",
        "train_data_encoded=pd.get_dummies(train_data,columns = ['Gender', 'Ever_Married','Profession','Graduated','Energy_Consumption','Preferred_Renewable'], dtype = int, drop_first=True)\n",
        "\n",
        "X = train_data_encoded.drop(['Group'], axis=1)\n",
        "y=train_data_encoded['Group']\n",
        "\n",
        "\n",
        "test_data_encoded=pd.get_dummies(test_data,columns = ['Gender', 'Ever_Married','Profession','Graduated','Energy_Consumption','Preferred_Renewable'], dtype = int, drop_first=True)"
      ],
      "metadata": {
        "id": "VeGxbpeIwPah"
      },
      "execution_count": 36,
      "outputs": []
    },
    {
      "cell_type": "code",
      "source": [
        "\n",
        "from sklearn.tree import DecisionTreeClassifier\n",
        "\n",
        "from collections import Counter\n",
        "\n"
      ],
      "metadata": {
        "id": "0mkVnzoQ3D9n"
      },
      "execution_count": 57,
      "outputs": []
    },
    {
      "cell_type": "code",
      "source": [
        "\n",
        "\n",
        "class RandomForestClassifier:\n",
        "    def __init__(self, n_estimators: int = 10, max_depth: int = 5, min_samples_leaf: int = 3, max_features: int | None = None):\n",
        "        self.n_estimators = n_estimators\n",
        "        self.max_depth = max_depth\n",
        "        self.min_samples_leaf = min_samples_leaf\n",
        "        self.max_features = max_features\n",
        "        self.trees: list = []\n",
        "\n",
        "    def fit(self, X: np.ndarray, y: np.ndarray) -> None:\n",
        "        self.trees = []\n",
        "        n_samples, n_features = X.shape\n",
        "        self.max_features = self.max_features or int(np.sqrt(n_features))\n",
        "        for _ in range(self.n_estimators):\n",
        "            sample_index = np.random.choice(n_samples, size=n_samples, replace=True)\n",
        "            X_sample, y_sample = X[sample_index], y[sample_index]\n",
        "\n",
        "            tree = DecisionTreeClassifier(max_depth=self.max_depth, min_samples_leaf=self.min_samples_leaf)\n",
        "\n",
        "            tree_features = np.random.choice(n_features, size=self.max_features, replace=False)\n",
        "            X_sample_subfeatures = X_sample[:, tree_features]\n",
        "            tree.fit(X_sample_subfeatures, y_sample)\n",
        "            self.trees.append((tree, tree_features))\n",
        "\n",
        "    def predict(self, X: np.ndarray) -> np.ndarray:\n",
        "\n",
        "        all_preds = []\n",
        "        for tree, features in self.trees:\n",
        "\n",
        "            preds = tree.predict(X[:, features])\n",
        "            all_preds.append(preds)\n",
        "\n",
        "\n",
        "        all_preds = np.array(all_preds)\n",
        "\n",
        "        def column_mode(arr: np.ndarray) -> list:\n",
        "\n",
        "            return [Counter(col).most_common(1)[0][0] for col in arr.T]\n",
        "\n",
        "        final_preds = np.array(column_mode(all_preds))\n",
        "        return final_preds"
      ],
      "metadata": {
        "id": "ctpEDvmHxsZW"
      },
      "execution_count": 75,
      "outputs": []
    },
    {
      "cell_type": "code",
      "source": [
        "model = RandomForestClassifier(n_estimators=30, max_depth=5, min_samples_leaf=3, max_features=2)\n",
        "\n"
      ],
      "metadata": {
        "id": "cc1q7ssC1G9O"
      },
      "execution_count": 76,
      "outputs": []
    },
    {
      "cell_type": "code",
      "source": [
        "\n",
        "model.fit(X, y)\n",
        "\n",
        "y_pred = model.predict(test_data_encoded)\n",
        "\n",
        "print(y_pred)"
      ],
      "metadata": {
        "colab": {
          "base_uri": "https://localhost:8080/"
        },
        "id": "UoVzodL51Lyt",
        "outputId": "eba21af8-ad48-457e-e244-58eb8fc2e126"
      },
      "execution_count": 77,
      "outputs": [
        {
          "output_type": "stream",
          "name": "stdout",
          "text": [
            "['D' 'D' 'D' ... 'D' 'D' 'D']\n"
          ]
        }
      ]
    }
  ]
}